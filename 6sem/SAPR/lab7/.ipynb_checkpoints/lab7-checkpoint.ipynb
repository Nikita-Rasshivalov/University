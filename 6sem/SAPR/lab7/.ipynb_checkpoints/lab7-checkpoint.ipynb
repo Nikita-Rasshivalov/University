{
 "cells": [
  {
   "cell_type": "markdown",
   "id": "spare-soccer",
   "metadata": {},
   "source": [
    "<h2>Лабораторная работа №7 - Методы распознавания (классификации)</h2>"
   ]
  },
  {
   "cell_type": "markdown",
   "id": "parental-fraction",
   "metadata": {},
   "source": [
    "<h4>Для начала необходимо сформировать данные</h4><br>\n",
    "<p>Моя задача - по данным, оценить производительность компьютера</p>\n",
    "<p>Классы - <i>perfomance</i>(<i>medium</i>, <i>hight</i>)</p>\n",
    "<p>Признаки:<br>\n",
    "1. cores - количество процессорных ядер (шт.)<br>\n",
    "2. clocks - максимальная частота ядра процессора на всех ядрах (GHz)<br>\n",
    "3. ram - объём оперативной памяти (GB)<br>\n",
    "4. compute_units - количество ядер графического процессора (шт.)<br>\n",
    "5. gpu_memory - объем видеопамяти GPU (GB)<br>\n",
    "</p>"
   ]
  },
  {
   "cell_type": "markdown",
   "id": "excess-farming",
   "metadata": {},
   "source": [
    "<h3>Подключаю библиотеки</h3>"
   ]
  },
  {
   "cell_type": "code",
   "execution_count": 1,
   "id": "agreed-livestock",
   "metadata": {},
   "outputs": [],
   "source": [
    "import numpy as np\n",
    "import pandas as pd\n",
    "import matplotlib.pyplot as plt"
   ]
  },
  {
   "cell_type": "markdown",
   "id": "underlying-suffering",
   "metadata": {},
   "source": [
    "<h3>Создаю фрейм данных</h3>"
   ]
  },
  {
   "cell_type": "code",
   "execution_count": 2,
   "id": "transsexual-reason",
   "metadata": {},
   "outputs": [],
   "source": [
    "#                1         2         3         4         5         6         7         8         9         10\n",
    "cores =         [6,        6,        8,        16,       4,        2,        8,        6,        4,        4        ]\n",
    "clocks =        [3.3,      3.6,      3.4,      3.3,      4.1,      3.9,      3.5,      3.6,      4.4,      3.9      ]\n",
    "ram =           [16,       16,       8,        32,       8,        4,        16,       8,        16,       8        ]\n",
    "compute_units = [16,       20,       36,       80,       8,        4,        32,       12,       32,       11       ]\n",
    "gpu_memory =    [4,        6,        8,        24,       2,        2,        8,        4,        8,        4        ]\n",
    "perfomance =    [\"medium\", \"medium\", \"high\"  , \"high\"  , \"medium\", \"medium\", \"high\"  , \"medium\", \"high\"  , \"medium\" ]"
   ]
  },
  {
   "cell_type": "code",
   "execution_count": 3,
   "id": "charming-focus",
   "metadata": {},
   "outputs": [],
   "source": [
    "data = pd.DataFrame(\n",
    "    {\n",
    "        \"cores\": cores,\n",
    "        \"clocks\": clocks,\n",
    "        \"ram\": ram,\n",
    "        \"compute_units\": compute_units,\n",
    "        \"gpu_memory\": gpu_memory,\n",
    "        \"perfomance\": perfomance\n",
    "    }\n",
    ")"
   ]
  },
  {
   "cell_type": "code",
   "execution_count": 4,
   "id": "former-crystal",
   "metadata": {},
   "outputs": [
    {
     "data": {
      "text/html": [
       "<div>\n",
       "<style scoped>\n",
       "    .dataframe tbody tr th:only-of-type {\n",
       "        vertical-align: middle;\n",
       "    }\n",
       "\n",
       "    .dataframe tbody tr th {\n",
       "        vertical-align: top;\n",
       "    }\n",
       "\n",
       "    .dataframe thead th {\n",
       "        text-align: right;\n",
       "    }\n",
       "</style>\n",
       "<table border=\"1\" class=\"dataframe\">\n",
       "  <thead>\n",
       "    <tr style=\"text-align: right;\">\n",
       "      <th></th>\n",
       "      <th>cores</th>\n",
       "      <th>clocks</th>\n",
       "      <th>ram</th>\n",
       "      <th>compute_units</th>\n",
       "      <th>gpu_memory</th>\n",
       "      <th>perfomance</th>\n",
       "    </tr>\n",
       "  </thead>\n",
       "  <tbody>\n",
       "    <tr>\n",
       "      <th>0</th>\n",
       "      <td>6</td>\n",
       "      <td>3.3</td>\n",
       "      <td>16</td>\n",
       "      <td>16</td>\n",
       "      <td>4</td>\n",
       "      <td>medium</td>\n",
       "    </tr>\n",
       "    <tr>\n",
       "      <th>1</th>\n",
       "      <td>6</td>\n",
       "      <td>3.6</td>\n",
       "      <td>16</td>\n",
       "      <td>20</td>\n",
       "      <td>6</td>\n",
       "      <td>medium</td>\n",
       "    </tr>\n",
       "    <tr>\n",
       "      <th>2</th>\n",
       "      <td>8</td>\n",
       "      <td>3.4</td>\n",
       "      <td>8</td>\n",
       "      <td>36</td>\n",
       "      <td>8</td>\n",
       "      <td>high</td>\n",
       "    </tr>\n",
       "    <tr>\n",
       "      <th>3</th>\n",
       "      <td>16</td>\n",
       "      <td>3.3</td>\n",
       "      <td>32</td>\n",
       "      <td>80</td>\n",
       "      <td>24</td>\n",
       "      <td>high</td>\n",
       "    </tr>\n",
       "    <tr>\n",
       "      <th>4</th>\n",
       "      <td>4</td>\n",
       "      <td>4.1</td>\n",
       "      <td>8</td>\n",
       "      <td>8</td>\n",
       "      <td>2</td>\n",
       "      <td>medium</td>\n",
       "    </tr>\n",
       "    <tr>\n",
       "      <th>5</th>\n",
       "      <td>2</td>\n",
       "      <td>3.9</td>\n",
       "      <td>4</td>\n",
       "      <td>4</td>\n",
       "      <td>2</td>\n",
       "      <td>medium</td>\n",
       "    </tr>\n",
       "    <tr>\n",
       "      <th>6</th>\n",
       "      <td>8</td>\n",
       "      <td>3.5</td>\n",
       "      <td>16</td>\n",
       "      <td>32</td>\n",
       "      <td>8</td>\n",
       "      <td>high</td>\n",
       "    </tr>\n",
       "    <tr>\n",
       "      <th>7</th>\n",
       "      <td>6</td>\n",
       "      <td>3.6</td>\n",
       "      <td>8</td>\n",
       "      <td>12</td>\n",
       "      <td>4</td>\n",
       "      <td>medium</td>\n",
       "    </tr>\n",
       "    <tr>\n",
       "      <th>8</th>\n",
       "      <td>4</td>\n",
       "      <td>4.4</td>\n",
       "      <td>16</td>\n",
       "      <td>32</td>\n",
       "      <td>8</td>\n",
       "      <td>high</td>\n",
       "    </tr>\n",
       "    <tr>\n",
       "      <th>9</th>\n",
       "      <td>4</td>\n",
       "      <td>3.9</td>\n",
       "      <td>8</td>\n",
       "      <td>11</td>\n",
       "      <td>4</td>\n",
       "      <td>medium</td>\n",
       "    </tr>\n",
       "  </tbody>\n",
       "</table>\n",
       "</div>"
      ],
      "text/plain": [
       "   cores  clocks  ram  compute_units  gpu_memory perfomance\n",
       "0      6     3.3   16             16           4     medium\n",
       "1      6     3.6   16             20           6     medium\n",
       "2      8     3.4    8             36           8       high\n",
       "3     16     3.3   32             80          24       high\n",
       "4      4     4.1    8              8           2     medium\n",
       "5      2     3.9    4              4           2     medium\n",
       "6      8     3.5   16             32           8       high\n",
       "7      6     3.6    8             12           4     medium\n",
       "8      4     4.4   16             32           8       high\n",
       "9      4     3.9    8             11           4     medium"
      ]
     },
     "execution_count": 4,
     "metadata": {},
     "output_type": "execute_result"
    }
   ],
   "source": [
    "data"
   ]
  },
  {
   "cell_type": "markdown",
   "id": "structural-replication",
   "metadata": {},
   "source": [
    "<h3>Создаю тестовые данные</h3>"
   ]
  },
  {
   "cell_type": "code",
   "execution_count": 5,
   "id": "banned-fossil",
   "metadata": {},
   "outputs": [
    {
     "data": {
      "text/html": [
       "<div>\n",
       "<style scoped>\n",
       "    .dataframe tbody tr th:only-of-type {\n",
       "        vertical-align: middle;\n",
       "    }\n",
       "\n",
       "    .dataframe tbody tr th {\n",
       "        vertical-align: top;\n",
       "    }\n",
       "\n",
       "    .dataframe thead th {\n",
       "        text-align: right;\n",
       "    }\n",
       "</style>\n",
       "<table border=\"1\" class=\"dataframe\">\n",
       "  <thead>\n",
       "    <tr style=\"text-align: right;\">\n",
       "      <th></th>\n",
       "      <th>cores</th>\n",
       "      <th>clocks</th>\n",
       "      <th>ram</th>\n",
       "      <th>compute_units</th>\n",
       "      <th>gpu_memory</th>\n",
       "    </tr>\n",
       "  </thead>\n",
       "  <tbody>\n",
       "    <tr>\n",
       "      <th>0</th>\n",
       "      <td>4</td>\n",
       "      <td>3.9</td>\n",
       "      <td>16</td>\n",
       "      <td>8</td>\n",
       "      <td>4</td>\n",
       "    </tr>\n",
       "    <tr>\n",
       "      <th>1</th>\n",
       "      <td>16</td>\n",
       "      <td>4.1</td>\n",
       "      <td>32</td>\n",
       "      <td>64</td>\n",
       "      <td>12</td>\n",
       "    </tr>\n",
       "  </tbody>\n",
       "</table>\n",
       "</div>"
      ],
      "text/plain": [
       "   cores  clocks  ram  compute_units  gpu_memory\n",
       "0      4     3.9   16              8           4\n",
       "1     16     4.1   32             64          12"
      ]
     },
     "execution_count": 5,
     "metadata": {},
     "output_type": "execute_result"
    }
   ],
   "source": [
    "test_computers = pd.DataFrame(\n",
    "    {\n",
    "        \"cores\": [4, 16],\n",
    "        \"clocks\": [3.9, 4.1],\n",
    "        \"ram\": [16, 32],\n",
    "        \"compute_units\": [8, 64],\n",
    "        \"gpu_memory\": [4, 12]\n",
    "    }\n",
    ")\n",
    "test_computers"
   ]
  },
  {
   "cell_type": "markdown",
   "id": "daily-coast",
   "metadata": {},
   "source": [
    "<h3>Создаю класс для решения на основе минимального расстояния между объектами</h3>"
   ]
  },
  {
   "cell_type": "code",
   "execution_count": 6,
   "id": "hawaiian-pacific",
   "metadata": {},
   "outputs": [],
   "source": [
    "class MinDistanceDecision:\n",
    "    def __init__(self):\n",
    "        self.medium_prototype = dict()\n",
    "        self.high_prototype = dict()\n",
    "        self.max_values = dict()\n",
    "        self.fitted = False\n",
    "    \n",
    "    def fit(self, data):\n",
    "        data = data.copy(deep=True)\n",
    "        \n",
    "        for col in data.columns:\n",
    "            if(col != \"perfomance\"):\n",
    "                self.max_values[col] = data[col].max()\n",
    "                data[col] = data[col] / self.max_values[col]\n",
    "        \n",
    "        medium_pcs = data[data[\"perfomance\"] == \"medium\"]\n",
    "        hight_pcs = data[data[\"perfomance\"] == \"high\"]\n",
    "        \n",
    "        for col in data.columns:\n",
    "            if(col != \"perfomance\"):\n",
    "                self.medium_prototype[col] = medium_pcs[col].mean()\n",
    "                self.high_prototype[col] = hight_pcs[col].mean()\n",
    "        self.fitted = True\n",
    "        \n",
    "    def predict(self, data):\n",
    "        if not self.fitted:\n",
    "            raise Exception(\"Fit the model first\")\n",
    "        \n",
    "        data = data.copy(deep=True)\n",
    "        \n",
    "        for col in data.columns:\n",
    "            data[col] = data[col] / self.max_values[col]\n",
    "            \n",
    "        medium_d_values = self.__get_d_values(data, self.medium_prototype)\n",
    "        high_d_values = self.__get_d_values(data, self.high_prototype)\n",
    "        \n",
    "        predictions = []\n",
    "        \n",
    "        for medium_value, high_value in zip(medium_d_values, high_d_values):\n",
    "            predictions.append(\"medium\" if medium_value > high_value else \"high\" )\n",
    "            \n",
    "        return predictions\n",
    "        \n",
    "    def __get_d_values(self, data, prototype):\n",
    "        prototype_coef = 0\n",
    "        for value in prototype.values():\n",
    "            prototype_coef += value ** 2\n",
    "            \n",
    "        d_values = np.zeros((data.shape[0],))\n",
    "        \n",
    "        for index, row in data.iterrows():\n",
    "            data_coef = 0\n",
    "            for col in data.columns:\n",
    "                data_coef += row[col] * prototype[col]\n",
    "            d_values[index] = 2 * data_coef - prototype_coef\n",
    "        \n",
    "        return d_values\n",
    "        "
   ]
  },
  {
   "cell_type": "markdown",
   "id": "virgin-replication",
   "metadata": {},
   "source": [
    "<h3>Проверяю предсказание для тестовых компьютеров</h3>"
   ]
  },
  {
   "cell_type": "code",
   "execution_count": 7,
   "id": "adverse-louisiana",
   "metadata": {},
   "outputs": [
    {
     "data": {
      "text/html": [
       "<div>\n",
       "<style scoped>\n",
       "    .dataframe tbody tr th:only-of-type {\n",
       "        vertical-align: middle;\n",
       "    }\n",
       "\n",
       "    .dataframe tbody tr th {\n",
       "        vertical-align: top;\n",
       "    }\n",
       "\n",
       "    .dataframe thead th {\n",
       "        text-align: right;\n",
       "    }\n",
       "</style>\n",
       "<table border=\"1\" class=\"dataframe\">\n",
       "  <thead>\n",
       "    <tr style=\"text-align: right;\">\n",
       "      <th></th>\n",
       "      <th>cores</th>\n",
       "      <th>clocks</th>\n",
       "      <th>ram</th>\n",
       "      <th>compute_units</th>\n",
       "      <th>gpu_memory</th>\n",
       "    </tr>\n",
       "  </thead>\n",
       "  <tbody>\n",
       "    <tr>\n",
       "      <th>0</th>\n",
       "      <td>4</td>\n",
       "      <td>3.9</td>\n",
       "      <td>16</td>\n",
       "      <td>8</td>\n",
       "      <td>4</td>\n",
       "    </tr>\n",
       "    <tr>\n",
       "      <th>1</th>\n",
       "      <td>16</td>\n",
       "      <td>4.1</td>\n",
       "      <td>32</td>\n",
       "      <td>64</td>\n",
       "      <td>12</td>\n",
       "    </tr>\n",
       "  </tbody>\n",
       "</table>\n",
       "</div>"
      ],
      "text/plain": [
       "   cores  clocks  ram  compute_units  gpu_memory\n",
       "0      4     3.9   16              8           4\n",
       "1     16     4.1   32             64          12"
      ]
     },
     "execution_count": 7,
     "metadata": {},
     "output_type": "execute_result"
    }
   ],
   "source": [
    "test_computers"
   ]
  },
  {
   "cell_type": "code",
   "execution_count": 8,
   "id": "optical-control",
   "metadata": {},
   "outputs": [
    {
     "name": "stdout",
     "output_type": "stream",
     "text": [
      "Wall time: 24.8 ms\n"
     ]
    },
    {
     "data": {
      "text/plain": [
       "['medium', 'high']"
      ]
     },
     "execution_count": 8,
     "metadata": {},
     "output_type": "execute_result"
    }
   ],
   "source": [
    "%%time\n",
    "minDist = MinDistanceDecision()\n",
    "minDist.fit(data)\n",
    "minDist.predict(test_computers)"
   ]
  },
  {
   "cell_type": "markdown",
   "id": "skilled-reservation",
   "metadata": {},
   "source": [
    "<p>Предсказания совпали с ожиданиями</p>"
   ]
  },
  {
   "cell_type": "markdown",
   "id": "tracked-console",
   "metadata": {},
   "source": [
    "<h3>Создаю класс для решения на основе разделяющей функции между объектами</h3>"
   ]
  },
  {
   "cell_type": "code",
   "execution_count": 9,
   "id": "developing-dialogue",
   "metadata": {},
   "outputs": [],
   "source": [
    "class SeparateFuncDecision:\n",
    "    \"\"\"\n",
    "    Полученное значение функции соответствует medium если оно меньше нуля, иначе high\n",
    "    \"\"\"\n",
    "    def __init__(self):\n",
    "        self.weights = dict()\n",
    "        self.bias = 0\n",
    "        self.fitted = False\n",
    "    \n",
    "    def fit(self, data):\n",
    "        for col in data.columns:\n",
    "            if col != \"perfomance\":\n",
    "                self.weights[col] = 0\n",
    "        \n",
    "        recognized_count = 0\n",
    "        max_iters = 100\n",
    "        i = 0\n",
    "        while recognized_count < data.shape[0] or i < max_iters:\n",
    "            for index, row in data.iterrows():\n",
    "                value = 0\n",
    "                for col in data.columns:\n",
    "                    if col != \"perfomance\":\n",
    "                        value += row[col] * self.weights[col]\n",
    "                value += self.bias\n",
    "                \n",
    "                if value >= 0 and row[\"perfomance\"] == \"medium\":\n",
    "                    self.bias -= 1\n",
    "                    for col in data.columns:\n",
    "                        if col != \"perfomance\":\n",
    "                            self.weights[col] -= row[col]\n",
    "                    recognized_count = 0\n",
    "                    \n",
    "                elif value < 0 and row[\"perfomance\"] == \"high\":\n",
    "                    self.bias += 1\n",
    "                    for col in data.columns:\n",
    "                        if col != \"perfomance\":\n",
    "                            self.weights[col] += row[col]\n",
    "                    recognized_count = 0\n",
    "                    \n",
    "                else:\n",
    "                    recognized_count += 1\n",
    "            i += 1\n",
    "        if i == max_iters:\n",
    "            print(f\"Классификатор не смог полностью предсказать все классы и его обучение было прервано на {max_iters} операции\")\n",
    "        else:\n",
    "            print(f\"Классификатор успешно обучился за {i} операций\")\n",
    "            \n",
    "        self.fitted = True\n",
    "    \n",
    "    def predict(self, data):\n",
    "        if not self.fitted:\n",
    "            raise Exception(\"Fit the model first\")\n",
    "        \n",
    "        predictions = []\n",
    "        \n",
    "        for index, row in data.iterrows():\n",
    "            value = 0\n",
    "            for col in data.columns:\n",
    "                value += row[col] * self.weights[col]\n",
    "            value += self.bias\n",
    "            \n",
    "            predictions.append(\"high\" if value >= 0 else \"medium\")\n",
    "        \n",
    "        return predictions"
   ]
  },
  {
   "cell_type": "markdown",
   "id": "resident-might",
   "metadata": {},
   "source": [
    "<h3>Проверяю предсказание для тестовых компьютеров</h3>"
   ]
  },
  {
   "cell_type": "code",
   "execution_count": 10,
   "id": "turned-building",
   "metadata": {},
   "outputs": [
    {
     "data": {
      "text/html": [
       "<div>\n",
       "<style scoped>\n",
       "    .dataframe tbody tr th:only-of-type {\n",
       "        vertical-align: middle;\n",
       "    }\n",
       "\n",
       "    .dataframe tbody tr th {\n",
       "        vertical-align: top;\n",
       "    }\n",
       "\n",
       "    .dataframe thead th {\n",
       "        text-align: right;\n",
       "    }\n",
       "</style>\n",
       "<table border=\"1\" class=\"dataframe\">\n",
       "  <thead>\n",
       "    <tr style=\"text-align: right;\">\n",
       "      <th></th>\n",
       "      <th>cores</th>\n",
       "      <th>clocks</th>\n",
       "      <th>ram</th>\n",
       "      <th>compute_units</th>\n",
       "      <th>gpu_memory</th>\n",
       "    </tr>\n",
       "  </thead>\n",
       "  <tbody>\n",
       "    <tr>\n",
       "      <th>0</th>\n",
       "      <td>4</td>\n",
       "      <td>3.9</td>\n",
       "      <td>16</td>\n",
       "      <td>8</td>\n",
       "      <td>4</td>\n",
       "    </tr>\n",
       "    <tr>\n",
       "      <th>1</th>\n",
       "      <td>16</td>\n",
       "      <td>4.1</td>\n",
       "      <td>32</td>\n",
       "      <td>64</td>\n",
       "      <td>12</td>\n",
       "    </tr>\n",
       "  </tbody>\n",
       "</table>\n",
       "</div>"
      ],
      "text/plain": [
       "   cores  clocks  ram  compute_units  gpu_memory\n",
       "0      4     3.9   16              8           4\n",
       "1     16     4.1   32             64          12"
      ]
     },
     "execution_count": 10,
     "metadata": {},
     "output_type": "execute_result"
    }
   ],
   "source": [
    "test_computers"
   ]
  },
  {
   "cell_type": "code",
   "execution_count": 11,
   "id": "signal-willow",
   "metadata": {},
   "outputs": [
    {
     "name": "stdout",
     "output_type": "stream",
     "text": [
      "Классификатор не смог полностью предсказать все классы и его обучение было прервано на 100 операции\n",
      "Wall time: 192 ms\n"
     ]
    },
    {
     "data": {
      "text/plain": [
       "['medium', 'high']"
      ]
     },
     "execution_count": 11,
     "metadata": {},
     "output_type": "execute_result"
    }
   ],
   "source": [
    "%%time\n",
    "minDist = SeparateFuncDecision()\n",
    "minDist.fit(data)\n",
    "minDist.predict(test_computers)"
   ]
  },
  {
   "cell_type": "markdown",
   "id": "closed-orleans",
   "metadata": {},
   "source": [
    "<p>Предсказания совпали с ожиданиями</p>"
   ]
  },
  {
   "cell_type": "markdown",
   "id": "solved-latter",
   "metadata": {},
   "source": [
    "<h4>Вывод: Классификаторы верно предсказывают значения. Скорость работы классификатора, предсказывающего на основе минимальных расстояний намного выше чем скорость классификатора на основе разделяющей прямой. Это связано с тем, что первый классификатор за одну операцию вычисляет прототипы классов и потом просто сопоставляет прототипы и входящие классы, а второй строит разделяющую гиперплоскость и выполняет свою настройку итеративно много раз.</h4>"
   ]
  }
 ],
 "metadata": {
  "kernelspec": {
   "display_name": "Python 3",
   "language": "python",
   "name": "python3"
  },
  "language_info": {
   "codemirror_mode": {
    "name": "ipython",
    "version": 3
   },
   "file_extension": ".py",
   "mimetype": "text/x-python",
   "name": "python",
   "nbconvert_exporter": "python",
   "pygments_lexer": "ipython3",
   "version": "3.8.6"
  }
 },
 "nbformat": 4,
 "nbformat_minor": 5
}
