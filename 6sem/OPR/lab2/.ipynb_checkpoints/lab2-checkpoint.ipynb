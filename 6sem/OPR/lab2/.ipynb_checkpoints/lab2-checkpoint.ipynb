{
 "cells": [
  {
   "cell_type": "markdown",
   "id": "hollywood-crowd",
   "metadata": {},
   "source": [
    "<h2>Лабораторная работа №2. Безусловная одномерная оптимизация</h2>"
   ]
  },
  {
   "cell_type": "markdown",
   "id": "about-dylan",
   "metadata": {},
   "source": [
    "<h3>Задача - найти точку минимума функции $1.4x + e^{\\lvert x - 2 \\rvert}$ на отрезке [<i>a</i>; <i>b</i>]</h3>\n",
    "<p>    \n",
    "    Методы поиска:<br>\n",
    "    1. Блочного равномерного поиска<br>\n",
    "    2. Деления интервала пополам<br>\n",
    "    3. Дихотомии<br>\n",
    "    4. Золотого сечения<br>\n",
    "    5. Кубической интерполяции<br>\n",
    "</p>"
   ]
  },
  {
   "cell_type": "markdown",
   "id": "living-cotton",
   "metadata": {},
   "source": [
    "<h3>Подключение библиотек</h3>"
   ]
  },
  {
   "cell_type": "code",
   "execution_count": 27,
   "id": "defined-retro",
   "metadata": {},
   "outputs": [],
   "source": [
    "import numpy as np\n",
    "import matplotlib.pyplot as plt"
   ]
  },
  {
   "cell_type": "markdown",
   "id": "taken-inflation",
   "metadata": {},
   "source": [
    "<h3>Определение функции</h3>"
   ]
  },
  {
   "cell_type": "code",
   "execution_count": 28,
   "id": "pressing-milwaukee",
   "metadata": {},
   "outputs": [],
   "source": [
    "def my_func(x):\n",
    "    return 1.4 * x + np.exp(np.abs(x - 2))\n",
    "\n",
    "my_func_vectorized = np.vectorize(my_func)"
   ]
  },
  {
   "cell_type": "code",
   "execution_count": 29,
   "id": "still-impact",
   "metadata": {},
   "outputs": [],
   "source": [
    "func_x = np.linspace(-2, 6, 1000)\n",
    "func_y = my_func_vectorized(func_x)"
   ]
  },
  {
   "cell_type": "code",
   "execution_count": 30,
   "id": "explicit-singing",
   "metadata": {},
   "outputs": [
    {
     "data": {
      "text/plain": [
       "<matplotlib.legend.Legend at 0x19e558d4100>"
      ]
     },
     "execution_count": 30,
     "metadata": {},
     "output_type": "execute_result"
    },
    {
     "data": {
      "image/png": "[encoded data removed]",
      "text/plain": [
       "<Figure size 432x288 with 1 Axes>"
      ]
     },
     "metadata": {
      "needs_background": "light"
     },
     "output_type": "display_data"
    }
   ],
   "source": [
    "plt.plot(func_x, func_y, label=\"Исходная функция на интервале от -2 до 6\", color=\"green\")\n",
    "plt.legend()"
   ]
  },
  {
   "cell_type": "markdown",
   "id": "printable-characteristic",
   "metadata": {},
   "source": [
    "<h3>Блочный равномерный поиск</h3>"
   ]
  },
  {
   "cell_type": "code",
   "execution_count": 31,
   "id": "forward-holiday",
   "metadata": {},
   "outputs": [],
   "source": [
    "def block_uniform_search(a, b, n, eps=1e-6):\n",
    "    center_x = (b + a) / 2\n",
    "    step = (b - a) / n\n",
    "    while(step > eps):\n",
    "        vector_x = np.linspace(a, b, n)\n",
    "        vector_y = my_func_vectorized(vector_x)\n",
    "        center_x = vector_x[np.argmin(vector_y)]\n",
    "        a = center_x - step\n",
    "        b = center_x + step\n",
    "        step = (b - a) / n\n",
    "    return center_x"
   ]
  },
  {
   "cell_type": "code",
   "execution_count": 32,
   "id": "resistant-retrieval",
   "metadata": {},
   "outputs": [
    {
     "name": "stdout",
     "output_type": "stream",
     "text": [
      "При блочном равномерном поиске минимум = 1.6635270546737209\n",
      "Время, затраченное на 100 операций поиска\n",
      "Wall time: 144 ms\n"
     ]
    }
   ],
   "source": [
    "%%time\n",
    "for i in range(100):\n",
    "    block_uniform_search(-2, 6, 15)\n",
    "print(f\"При блочном равномерном поиске минимум = {block_uniform_search(-2, 6, 15)}\\nВремя, затраченное на 100 операций поиска\")"
   ]
  },
  {
   "cell_type": "markdown",
   "id": "orange-playlist",
   "metadata": {},
   "source": [
    "<h3>Деление интервала пополам</h3>"
   ]
  },
  {
   "cell_type": "code",
   "execution_count": 33,
   "id": "integral-record",
   "metadata": {},
   "outputs": [],
   "source": [
    "def half_interval_search(a, b, eps=1e-6):\n",
    "    return block_uniform_search(a, b, 5, eps)"
   ]
  },
  {
   "cell_type": "code",
   "execution_count": 34,
   "id": "grand-sherman",
   "metadata": {},
   "outputs": [
    {
     "name": "stdout",
     "output_type": "stream",
     "text": [
      "При делении интервала пополам минимум = 1.6635275316428797\n",
      "Время, затраченное на 100 операций поиска\n",
      "Wall time: 156 ms\n"
     ]
    }
   ],
   "source": [
    "%%time\n",
    "for i in range(100):\n",
    "    half_interval_search(-2, 6)\n",
    "print(f\"При делении интервала пополам минимум = {half_interval_search(-2, 6)}\\nВремя, затраченное на 100 операций поиска\")"
   ]
  },
  {
   "cell_type": "markdown",
   "id": "native-audit",
   "metadata": {},
   "source": [
    "<h3>Дихотомии</h3>"
   ]
  },
  {
   "cell_type": "code",
   "execution_count": 35,
   "id": "headed-silicon",
   "metadata": {},
   "outputs": [],
   "source": [
    "def dihotomy(a, b, eps=1e-6):\n",
    "    gamma = eps / 10\n",
    "    center_x = (b + a) / 2\n",
    "    while (b - a) > eps:\n",
    "        vector_x = np.linspace(center_x - gamma, center_x + gamma, 2)\n",
    "        vector_y = my_func_vectorized(vector_x)\n",
    "        center_x = vector_x[np.argmin(vector_y)]\n",
    "        if vector_y[0] < vector_y[1]:\n",
    "            b = center_x\n",
    "        else:\n",
    "            a = center_x\n",
    "        center_x = (b + a) / 2\n",
    "    return center_x"
   ]
  },
  {
   "cell_type": "code",
   "execution_count": 36,
   "id": "whole-beverage",
   "metadata": {},
   "outputs": [
    {
     "name": "stdout",
     "output_type": "stream",
     "text": [
      "При методе дихотомии = 1.6635279571338533\n",
      "Время, затраченное на 100 операций поиска\n",
      "Wall time: 224 ms\n"
     ]
    }
   ],
   "source": [
    "%%time\n",
    "for i in range(100):\n",
    "    dihotomy(-2, 6)\n",
    "print(f\"При методе дихотомии = {dihotomy(-2, 6)}\\nВремя, затраченное на 100 операций поиска\")"
   ]
  },
  {
   "cell_type": "markdown",
   "id": "statewide-native",
   "metadata": {},
   "source": [
    "<h3>Золотого сечения</h3>"
   ]
  },
  {
   "cell_type": "code",
   "execution_count": 37,
   "id": "secret-reading",
   "metadata": {},
   "outputs": [],
   "source": [
    "def golden_ratio(a, b, eps=1e-6):\n",
    "    lamb = 1.618\n",
    "    x1 = b - (b - a) / lamb\n",
    "    x2 = a + (b - a) / lamb\n",
    "    while (b - a) > eps:\n",
    "        y1 = my_func(x1)\n",
    "        y2 = my_func(x2)\n",
    "        if y1 <= y2:\n",
    "            b = x2\n",
    "        else:\n",
    "            a = x1\n",
    "        x1 = b - (b - a) / lamb\n",
    "        x2 = a + (b - a) / lamb\n",
    "    y1 = my_func(x1)\n",
    "    y2 = my_func(x2)\n",
    "    if y1 <= y2:\n",
    "        return x1\n",
    "    else:\n",
    "        return x2"
   ]
  },
  {
   "cell_type": "code",
   "execution_count": 38,
   "id": "convertible-recommendation",
   "metadata": {},
   "outputs": [
    {
     "name": "stdout",
     "output_type": "stream",
     "text": [
      "При методе золотого сечения = 1.6635278334393628\n",
      "Время, затраченное на 100 операций поиска\n",
      "Wall time: 66.7 ms\n"
     ]
    }
   ],
   "source": [
    "%%time\n",
    "for i in range(100):\n",
    "    golden_ratio(-2, 6)\n",
    "print(f\"При методе золотого сечения = {golden_ratio(-2, 6)}\\nВремя, затраченное на 100 операций поиска\")"
   ]
  },
  {
   "cell_type": "markdown",
   "id": "adverse-composer",
   "metadata": {},
   "source": [
    "<h3>Кубической интерполяции</h3>"
   ]
  },
  {
   "cell_type": "code",
   "execution_count": 39,
   "id": "lovely-pennsylvania",
   "metadata": {},
   "outputs": [],
   "source": [
    "def my_func_derivative(x):\n",
    "    return 1.4 + np.exp(np.abs(x - 2)) if x >= 2 else 1.4 - np.exp(np.abs(x - 2))"
   ]
  },
  {
   "cell_type": "code",
   "execution_count": 40,
   "id": "atlantic-empire",
   "metadata": {},
   "outputs": [],
   "source": [
    "def cube_interpolation(x, h, a, b, eps=1e-6):\n",
    "    if my_func_derivative(x) > 0:\n",
    "        h = -h\n",
    "    while np.abs(my_func_derivative(x)) > eps:\n",
    "        a_der = my_func_derivative(a)\n",
    "        b_der = my_func_derivative(b)\n",
    "        z = a_der + b_der + 3 * (my_func(b) - my_func(a)) / (b - a)\n",
    "        w = np.sqrt(z ** 2 - a_der * b_der)\n",
    "        gamma = (z + w - a_der) / (b_der - a_der + 2 * w)\n",
    "        if gamma < 0:\n",
    "            x = a\n",
    "        elif gamma > 1:\n",
    "            x = b\n",
    "        else:\n",
    "            x = a + gamma * (b - a)\n",
    "        if my_func_derivative(x) >= 0:\n",
    "            b = x\n",
    "        else:\n",
    "            a = x\n",
    "    return x"
   ]
  },
  {
   "cell_type": "code",
   "execution_count": 41,
   "id": "precise-sentence",
   "metadata": {},
   "outputs": [
    {
     "name": "stdout",
     "output_type": "stream",
     "text": [
      "При методе кубической интерполяции = 1.663527326187312\n",
      "Время, затраченное на 100 операций поиска\n",
      "Wall time: 239 ms\n"
     ]
    }
   ],
   "source": [
    "%%time\n",
    "for i in range(100):\n",
    "    cube_interpolation(0, 1, -2, 6)\n",
    "print(f\"При методе кубической интерполяции = {cube_interpolation(0, 1, -2, 6)}\\nВремя, затраченное на 100 операций поиска\")"
   ]
  },
  {
   "cell_type": "markdown",
   "id": "martial-scroll",
   "metadata": {},
   "source": [
    "<h4>Вывод: блочные методы хороши при большом количестве k и распараллеливании вычислений точек на каждом блоке. Но в общем случае методы оптимизации, основанные на вычислении производных работают лучше, так как эти методы вычисляют направление движения, и напрямую двигаются в точку минимума</h4>"
   ]
  }
 ],
 "metadata": {
  "kernelspec": {
   "display_name": "Python 3",
   "language": "python",
   "name": "python3"
  },
  "language_info": {
   "codemirror_mode": {
    "name": "ipython",
    "version": 3
   },
   "file_extension": ".py",
   "mimetype": "text/x-python",
   "name": "python",
   "nbconvert_exporter": "python",
   "pygments_lexer": "ipython3",
   "version": "3.8.6"
  }
 },
 "nbformat": 4,
 "nbformat_minor": 5
}
