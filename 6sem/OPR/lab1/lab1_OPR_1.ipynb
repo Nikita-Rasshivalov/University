{
  "nbformat": 4,
  "nbformat_minor": 0,
  "metadata": {
    "colab": {
      "name": "lab1_OPR.ipynb",
      "provenance": [],
      "collapsed_sections": []
    },
    "kernelspec": {
      "name": "python3",
      "display_name": "Python 3"
    },
    "language_info": {
      "name": "python"
    }
  },
  "cells": [
    {
      "cell_type": "code",
      "execution_count": null,
      "metadata": {
        "colab": {
          "base_uri": "https://localhost:8080/"
        },
        "id": "A3g82iZcVOJu",
        "outputId": "d6150377-4b74-4051-ab6b-9a4a98532c11"
      },
      "outputs": [
        {
          "output_type": "stream",
          "name": "stdout",
          "text": [
            "[[ 0  5 16 18 16]\n",
            " [ 5  0 26 16 12]\n",
            " [16 26  0 16  5]\n",
            " [18 16 16  0  6]\n",
            " [16 12  5  6  0]]\n"
          ]
        }
      ],
      "source": [
        "import numpy as np\n",
        "#Дорошко Денис - Д5 О16 Р18 О16 Ш26 О16 К12 О16 Д5 Е6 Н15 И10 С19\n",
        "matrix = np.array(\n",
        "[[0, 5, 16, 18, 16],\n",
        " [5, 0,26, 16, 12],\n",
        " [16, 26, 0, 16, 5],\n",
        " [18, 16, 16, 0, 6],\n",
        " [16, 12, 5, 6, 0]])\n",
        "#matrix = np.array(\n",
        "# [[0, 10, 3, 1, 15],\n",
        "# [10, 0,16, 3, 17],\n",
        "# [3, 16, 0, 6, 20],\n",
        "# [1, 3, 6, 0, 18],\n",
        "# [15, 17, 20, 18, 0]])\n",
        "def make_matrix(size, seed=23):\n",
        " np.random.seed(seed)\n",
        " rand_matrix = np.zeros((size, size))\n",
        " for i in range(size):\n",
        "  for j in range(i, size):\n",
        "    rand_matrix[i, j] = np.random.randint(0, 50)\n",
        "    rand_matrix[j, i] = rand_matrix[i, j]\n",
        " return rand_matrix\n",
        "\n",
        "#matrix = make_matrix(10)\n",
        "print(matrix)"
      ]
    },
    {
      "cell_type": "code",
      "source": [
        "def eager_algorithm(matrix):\n",
        " looked_rows = []\n",
        " path = []\n",
        " path_length = 0\n",
        " current_row = 0\n",
        " for i in range(matrix.shape[0]):\n",
        "   first_available = 0\n",
        "   for j in range(matrix.shape[1]):\n",
        "     if(j != current_row and j not in looked_rows):\n",
        "       first_available = j\n",
        "       break\n",
        "   min_column = matrix[current_row, first_available]\n",
        "   min_col_pos = first_available\n",
        "   for j in range(first_available + 1, matrix.shape[1]):\n",
        "    if(j not in looked_rows and current_row != j and matrix[current_row, j] < min_column):\n",
        "      min_column = matrix[current_row, j]\n",
        "      min_col_pos = j\n",
        "   path_length += min_column\n",
        "   path.append(current_row)\n",
        "   looked_rows.append(current_row)\n",
        "   current_row = min_col_pos\n",
        " path.append(path[0])\n",
        " return (path, path_length)"
      ],
      "metadata": {
        "id": "9tX1M4_1cEql"
      },
      "execution_count": null,
      "outputs": []
    },
    {
      "cell_type": "code",
      "source": [
        "def permutations(iterable):\n",
        "    pool = tuple(iterable)\n",
        "    n = len(pool)\n",
        "    r = n\n",
        "    if r > n:\n",
        "        return\n",
        "    indices = list(range(n))\n",
        "    cycles = list(range(n, n-r, -1))\n",
        "    yield tuple(pool[i] for i in indices[:r])\n",
        "    while n:\n",
        "        for i in reversed(range(r)):\n",
        "            cycles[i] -= 1\n",
        "            if cycles[i] == 0:\n",
        "                indices[i:] = indices[i+1:] + indices[i:i+1]\n",
        "                cycles[i] = n - i\n",
        "            else:\n",
        "                j = cycles[i]\n",
        "                indices[i], indices[-j] = indices[-j], indices[i]\n",
        "                yield tuple(pool[i] for i in indices[:r])\n",
        "                break\n",
        "        else:\n",
        "            return\n",
        "def full_search(matrix):\n",
        "  permutationItems = permutations([i for i in range(matrix.shape[0])])\n",
        "  paths = []\n",
        "  times = []\n",
        "  for path in permutationItems:\n",
        "    paths.append(path)\n",
        "    times.append([])\n",
        "    for i in range(matrix.shape[0]):\n",
        "      time = matrix[path[i],path[0]]\n",
        "      if i < matrix.shape[0] - 1:\n",
        "        time = matrix[path[i],path[i + 1]]\n",
        "      times[-1].append(time)\n",
        "  return paths,times\n",
        "\n",
        "def find_min_path(matrix):\n",
        "  paths,times = full_search(matrix)\n",
        "  min_path = sum(times[0])\n",
        "  min_pos = 0\n",
        "  for i in range(1, len(paths)):\n",
        "    next_sum = sum(times[i])\n",
        "    if next_sum < min_path:\n",
        "      min_path = next_sum\n",
        "      min_pos = i\n",
        "  full_path = list(paths[min_pos])\n",
        "  full_path.append(paths[min_pos][0])\n",
        "  return min_path,full_path\n",
        "\n",
        "def find_max_path(matrix):\n",
        "  paths,times = full_search(matrix)\n",
        "  max_path = sum(times[0])\n",
        "  max_pos = 0\n",
        "  for i in range(1, len(paths)):\n",
        "    next_sum = sum(times[i])\n",
        "    if next_sum > max_path:\n",
        "      max_path = next_sum\n",
        "      max_pos = i\n",
        "  full_path = list(paths[max_pos])\n",
        "  full_path.append(paths[max_pos][0])\n",
        "  return max_path,full_path\n",
        "\n",
        "  \n",
        "\n"
      ],
      "metadata": {
        "id": "M1jvAnjRwUM4"
      },
      "execution_count": null,
      "outputs": []
    },
    {
      "cell_type": "code",
      "source": [
        "#Дорошко Денис - Д5 О16 Р18 О16 Ш26 О16 К12 О16 Д5 Е6 Н15 И10 С19\n",
        "matrix = np.array(\n",
        "[[0, 5, 16, 18, 16],\n",
        " [5, 0,26, 16, 12],\n",
        " [16, 26, 0, 16, 5],\n",
        " [18, 16, 16, 0, 6],\n",
        " [16, 12, 5, 6, 0]])\n",
        "eager_path,min_eager = eager_algorithm(matrix)\n",
        "print(\"Eager value:\" + str(min_eager) + \" and path:\" + str(eager_path))\n",
        "min_path_len,min_path = find_min_path(matrix)\n",
        "print(\"Min by search:\" + str(min_path_len) + \" and path:\" + str(min_path))\n",
        "max_path_len,max_path = find_max_path(matrix)\n",
        "print(\"Max by search:\" + str(max_path_len) + \" and path:\" + str(max_path))"
      ],
      "metadata": {
        "colab": {
          "base_uri": "https://localhost:8080/"
        },
        "id": "OFuoRNyjfjQ4",
        "outputId": "2deb7f14-9d9d-40cb-cfdf-e8fee4b22c80"
      },
      "execution_count": null,
      "outputs": [
        {
          "output_type": "stream",
          "name": "stdout",
          "text": [
            "Eager value:56 and path:[0, 1, 4, 2, 3, 0]\n",
            "Min by search:48 and path:[0, 1, 3, 4, 2, 0]\n",
            "Max by search:88 and path:[0, 3, 2, 1, 4, 0]\n"
          ]
        }
      ]
    },
    {
      "cell_type": "code",
      "source": [
        "def make_matrix(size, seed=23):\n",
        " np.random.seed(seed)\n",
        " rand_matrix = np.zeros((size, size))\n",
        " for i in range(size):\n",
        "  for j in range(i, size):\n",
        "    rand_matrix[i, j] = np.random.randint(0, 50)\n",
        "    rand_matrix[j, i] = rand_matrix[i, j]\n",
        " return rand_matrix\n",
        "\n",
        "matrix = make_matrix(10)\n",
        "eager_path,min_eager = eager_algorithm(matrix)\n",
        "print(\"Eager value:\" + str(min_eager) + \" and path:\" + str(eager_path))\n",
        "min_path_len,min_path = find_min_path(matrix)\n",
        "print(\"Min by search:\" + str(min_path_len) + \" and path:\" + str(min_path))\n",
        "max_path_len,max_path = find_max_path(matrix)\n",
        "print(\"Max by search:\" + str(max_path_len) + \" and path:\" + str(max_path))"
      ],
      "metadata": {
        "colab": {
          "base_uri": "https://localhost:8080/"
        },
        "id": "Lsv8Ejmxf_sn",
        "outputId": "c056c970-0839-4b87-8af4-016993c1c328"
      },
      "execution_count": null,
      "outputs": [
        {
          "output_type": "stream",
          "name": "stdout",
          "text": [
            "Eager value:123.0 and path:[0, 3, 2, 4, 5, 6, 7, 9, 8, 1, 0]\n",
            "Min by search:94.0 and path:[0, 3, 2, 4, 6, 5, 1, 8, 9, 7, 0]\n",
            "Max by search:388.0 and path:[0, 2, 7, 3, 4, 1, 6, 8, 5, 9, 0]\n"
          ]
        }
      ]
    }
  ]
}