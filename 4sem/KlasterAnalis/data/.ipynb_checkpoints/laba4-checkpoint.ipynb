{
 "cells": [
  {
   "cell_type": "code",
   "execution_count": 1,
   "id": "informed-publicity",
   "metadata": {},
   "outputs": [],
   "source": [
    "import matplotlib.pyplot as plt\n",
    "import seaborn as sns; sns.set()\n",
    "import numpy as np\n",
    "import pandas as pd\n",
    "\n",
    "from sklearn.metrics import confusion_matrix\n",
    "from sklearn.metrics import roc_curve, auc\n",
    "from sklearn.model_selection import cross_val_score\n",
    "from sklearn.metrics import accuracy_score,precision_score, recall_score,f1_score,plot_roc_curve\n",
    "from sklearn.metrics import log_loss\n"
   ]
  },
  {
   "cell_type": "code",
   "execution_count": 2,
   "id": "detected-toddler",
   "metadata": {},
   "outputs": [
    {
     "name": "stdout",
     "output_type": "stream",
     "text": [
      "     Company \\n(Maker-if known) Specific Bean Origin\\nor Bar Name   REF  \\\n",
      "0                      A. Morin                       Agua Grande  1876   \n",
      "1                      A. Morin                             Kpime  1676   \n",
      "2                      A. Morin                            Atsane  1676   \n",
      "3                      A. Morin                             Akata  1680   \n",
      "4                      A. Morin                            Quilla  1704   \n",
      "...                         ...                               ...   ...   \n",
      "1790                     Zotter                              Peru   647   \n",
      "1791                     Zotter                             Congo   749   \n",
      "1792                     Zotter                      Kerala State   749   \n",
      "1793                     Zotter                      Kerala State   781   \n",
      "1794                     Zotter                Brazil, Mitzi Blue   486   \n",
      "\n",
      "      Review\\nDate Cocoa\\nPercent Company\\nLocation  Rating Bean\\nType  \\\n",
      "0             2016            63%            France    3.75              \n",
      "1             2015            70%            France    2.75              \n",
      "2             2015            70%            France    3.00              \n",
      "3             2015            70%            France    3.50              \n",
      "4             2015            70%            France    3.50              \n",
      "...            ...            ...               ...     ...        ...   \n",
      "1790          2011            70%           Austria    3.75              \n",
      "1791          2011            65%           Austria    3.00  Forastero   \n",
      "1792          2011            65%           Austria    3.50  Forastero   \n",
      "1793          2011            62%           Austria    3.25              \n",
      "1794          2010            65%           Austria    3.00              \n",
      "\n",
      "     Broad Bean\\nOrigin  \n",
      "0              Sao Tome  \n",
      "1                  Togo  \n",
      "2                  Togo  \n",
      "3                  Togo  \n",
      "4                  Peru  \n",
      "...                 ...  \n",
      "1790               Peru  \n",
      "1791              Congo  \n",
      "1792              India  \n",
      "1793              India  \n",
      "1794             Brazil  \n",
      "\n",
      "[1795 rows x 9 columns]\n"
     ]
    }
   ],
   "source": [
    "df = pd.read_csv('flavors_of_cacao.csv')\n",
    "print(df)\n"
   ]
  },
  {
   "cell_type": "code",
   "execution_count": 3,
   "id": "indie-departure",
   "metadata": {},
   "outputs": [
    {
     "name": "stdout",
     "output_type": "stream",
     "text": [
      "Company \\n(Maker-if known)           0\n",
      "Specific Bean Origin\\nor Bar Name    0\n",
      "REF                                  0\n",
      "Review\\nDate                         0\n",
      "Cocoa\\nPercent                       0\n",
      "Company\\nLocation                    0\n",
      "Rating                               0\n",
      "Bean\\nType                           1\n",
      "Broad Bean\\nOrigin                   1\n",
      "dtype: int64\n",
      "Проверка на отсутствие данных:\n",
      "True\n"
     ]
    }
   ],
   "source": [
    "print(df.isnull().sum())\n",
    "print(\"Проверка на отсутствие данных:\")\n",
    "print(df.isnull().values.any())"
   ]
  },
  {
   "cell_type": "code",
   "execution_count": 4,
   "id": "optical-rental",
   "metadata": {},
   "outputs": [
    {
     "name": "stdout",
     "output_type": "stream",
     "text": [
      "Missed Bean\n",
      "Type:\n",
      "1\n",
      "0.1 %\n",
      "Missed Broad Bean\n",
      "Origin:\n",
      "1\n",
      "0.1 %\n"
     ]
    }
   ],
   "source": [
    "print(\"Missed Bean\\nType:\")\n",
    "print(df['Bean\\nType'].isnull().sum())\n",
    "print(round(df['Bean\\nType'].isnull().sum() * 100 / len(df),1),\"%\")\n",
    "print(\"Missed Broad Bean\\nOrigin:\")\n",
    "print(df['Broad Bean\\nOrigin'].isnull().sum())\n",
    "print(round(df['Broad Bean\\nOrigin'].isnull().sum() * 100 / len(df),1),\"%\")\n",
    "df = df.drop(['Bean\\nType','Broad Bean\\nOrigin'],axis=1)"
   ]
  },
  {
   "cell_type": "code",
   "execution_count": 5,
   "id": "anonymous-cocktail",
   "metadata": {},
   "outputs": [
    {
     "data": {
      "image/png": "[encoded data removed]",
      "text/plain": [
       "<Figure size 360x360 with 1 Axes>"
      ]
     },
     "metadata": {},
     "output_type": "display_data"
    }
   ],
   "source": [
    "sns.displot(data=df,x='Rating',kde=True,color='green')\n",
    "plt.show()"
   ]
  },
  {
   "cell_type": "code",
   "execution_count": 6,
   "id": "cross-twenty",
   "metadata": {},
   "outputs": [
    {
     "data": {
      "image/png": "[encoded data removed]",
      "text/plain": [
       "<Figure size 432x288 with 1 Axes>"
      ]
     },
     "metadata": {},
     "output_type": "display_data"
    }
   ],
   "source": [
    "sns.countplot(data=df,x='Review\\nDate',color='green')\n",
    "plt.show()\n"
   ]
  },
  {
   "cell_type": "code",
   "execution_count": 7,
   "id": "loose-atlas",
   "metadata": {},
   "outputs": [
    {
     "data": {
      "image/png": "[encoded data removed]",
      "text/plain": [
       "<Figure size 360x360 with 1 Axes>"
      ]
     },
     "metadata": {},
     "output_type": "display_data"
    },
    {
     "name": "stderr",
     "output_type": "stream",
     "text": [
      "c:\\users\\nikit\\appdata\\local\\programs\\python\\python38-32\\lib\\site-packages\\seaborn\\distributions.py:2557: FutureWarning: `distplot` is a deprecated function and will be removed in a future version. Please adapt your code to use either `displot` (a figure-level function with similar flexibility) or `histplot` (an axes-level function for histograms).\n",
      "  warnings.warn(msg, FutureWarning)\n"
     ]
    },
    {
     "data": {
      "text/plain": [
       "<function matplotlib.pyplot.show(close=None, block=None)>"
      ]
     },
     "execution_count": 7,
     "metadata": {},
     "output_type": "execute_result"
    },
    {
     "data": {
      "image/png": "[encoded data removed]",
      "text/plain": [
       "<Figure size 1152x288 with 1 Axes>"
      ]
     },
     "metadata": {},
     "output_type": "display_data"
    }
   ],
   "source": [
    "df['Cocoa\\nPercent'] = df['Cocoa\\nPercent'].str.replace('%','').astype(float)/100\n",
    "sns.displot(data=df,x='Cocoa\\nPercent',kde=True,color='green')\n",
    "plt.show()\n",
    "fig, ax = plt.subplots(figsize=[16,4])\n",
    "sns.distplot(df['Cocoa\\nPercent'], ax=ax)\n",
    "plt.show"
   ]
  },
  {
   "cell_type": "code",
   "execution_count": 8,
   "id": "wanted-abraham",
   "metadata": {},
   "outputs": [
    {
     "name": "stdout",
     "output_type": "stream",
     "text": [
      "Amount of unique values:\n",
      "Company \n"
     ]
    },
    {
     "ename": "KeyError",
     "evalue": "'Company'",
     "output_type": "error",
     "traceback": [
      "\u001b[1;31m---------------------------------------------------------------------------\u001b[0m",
      "\u001b[1;31mKeyError\u001b[0m                                  Traceback (most recent call last)",
      "\u001b[1;32mc:\\users\\nikit\\appdata\\local\\programs\\python\\python38-32\\lib\\site-packages\\pandas\\core\\indexes\\base.py\u001b[0m in \u001b[0;36mget_loc\u001b[1;34m(self, key, method, tolerance)\u001b[0m\n\u001b[0;32m   3079\u001b[0m             \u001b[1;32mtry\u001b[0m\u001b[1;33m:\u001b[0m\u001b[1;33m\u001b[0m\u001b[1;33m\u001b[0m\u001b[0m\n\u001b[1;32m-> 3080\u001b[1;33m                 \u001b[1;32mreturn\u001b[0m \u001b[0mself\u001b[0m\u001b[1;33m.\u001b[0m\u001b[0m_engine\u001b[0m\u001b[1;33m.\u001b[0m\u001b[0mget_loc\u001b[0m\u001b[1;33m(\u001b[0m\u001b[0mcasted_key\u001b[0m\u001b[1;33m)\u001b[0m\u001b[1;33m\u001b[0m\u001b[1;33m\u001b[0m\u001b[0m\n\u001b[0m\u001b[0;32m   3081\u001b[0m             \u001b[1;32mexcept\u001b[0m \u001b[0mKeyError\u001b[0m \u001b[1;32mas\u001b[0m \u001b[0merr\u001b[0m\u001b[1;33m:\u001b[0m\u001b[1;33m\u001b[0m\u001b[1;33m\u001b[0m\u001b[0m\n",
      "\u001b[1;32mpandas\\_libs\\index.pyx\u001b[0m in \u001b[0;36mpandas._libs.index.IndexEngine.get_loc\u001b[1;34m()\u001b[0m\n",
      "\u001b[1;32mpandas\\_libs\\index.pyx\u001b[0m in \u001b[0;36mpandas._libs.index.IndexEngine.get_loc\u001b[1;34m()\u001b[0m\n",
      "\u001b[1;32mpandas\\_libs\\hashtable_class_helper.pxi\u001b[0m in \u001b[0;36mpandas._libs.hashtable.PyObjectHashTable.get_item\u001b[1;34m()\u001b[0m\n",
      "\u001b[1;32mpandas\\_libs\\hashtable_class_helper.pxi\u001b[0m in \u001b[0;36mpandas._libs.hashtable.PyObjectHashTable.get_item\u001b[1;34m()\u001b[0m\n",
      "\u001b[1;31mKeyError\u001b[0m: 'Company'",
      "\nThe above exception was the direct cause of the following exception:\n",
      "\u001b[1;31mKeyError\u001b[0m                                  Traceback (most recent call last)",
      "\u001b[1;32m<ipython-input-8-5e1119e27644>\u001b[0m in \u001b[0;36m<module>\u001b[1;34m\u001b[0m\n\u001b[0;32m      1\u001b[0m \u001b[0mprint\u001b[0m\u001b[1;33m(\u001b[0m\u001b[1;34m\"Amount of unique values:\"\u001b[0m\u001b[1;33m)\u001b[0m\u001b[1;33m\u001b[0m\u001b[1;33m\u001b[0m\u001b[0m\n\u001b[0;32m      2\u001b[0m \u001b[0mprint\u001b[0m\u001b[1;33m(\u001b[0m\u001b[1;34m'Company '\u001b[0m\u001b[1;33m)\u001b[0m\u001b[1;33m\u001b[0m\u001b[1;33m\u001b[0m\u001b[0m\n\u001b[1;32m----> 3\u001b[1;33m \u001b[0mprint\u001b[0m\u001b[1;33m(\u001b[0m\u001b[0mlen\u001b[0m\u001b[1;33m(\u001b[0m\u001b[0mdf\u001b[0m\u001b[1;33m[\u001b[0m\u001b[1;34m'Company'\u001b[0m\u001b[1;33m]\u001b[0m\u001b[1;33m.\u001b[0m\u001b[0munique\u001b[0m\u001b[1;33m(\u001b[0m\u001b[1;33m)\u001b[0m\u001b[1;33m)\u001b[0m\u001b[1;33m)\u001b[0m\u001b[1;33m\u001b[0m\u001b[1;33m\u001b[0m\u001b[0m\n\u001b[0m\u001b[0;32m      4\u001b[0m \u001b[0mprint\u001b[0m\u001b[1;33m(\u001b[0m\u001b[1;34m'Company Location'\u001b[0m\u001b[1;33m)\u001b[0m\u001b[1;33m\u001b[0m\u001b[1;33m\u001b[0m\u001b[0m\n\u001b[0;32m      5\u001b[0m \u001b[0mprint\u001b[0m\u001b[1;33m(\u001b[0m\u001b[0mlen\u001b[0m\u001b[1;33m(\u001b[0m\u001b[0mdf\u001b[0m\u001b[1;33m[\u001b[0m\u001b[1;34m'Company\\nLocation'\u001b[0m\u001b[1;33m]\u001b[0m\u001b[1;33m.\u001b[0m\u001b[0munique\u001b[0m\u001b[1;33m(\u001b[0m\u001b[1;33m)\u001b[0m\u001b[1;33m)\u001b[0m\u001b[1;33m)\u001b[0m\u001b[1;33m\u001b[0m\u001b[1;33m\u001b[0m\u001b[0m\n",
      "\u001b[1;32mc:\\users\\nikit\\appdata\\local\\programs\\python\\python38-32\\lib\\site-packages\\pandas\\core\\frame.py\u001b[0m in \u001b[0;36m__getitem__\u001b[1;34m(self, key)\u001b[0m\n\u001b[0;32m   3022\u001b[0m             \u001b[1;32mif\u001b[0m \u001b[0mself\u001b[0m\u001b[1;33m.\u001b[0m\u001b[0mcolumns\u001b[0m\u001b[1;33m.\u001b[0m\u001b[0mnlevels\u001b[0m \u001b[1;33m>\u001b[0m \u001b[1;36m1\u001b[0m\u001b[1;33m:\u001b[0m\u001b[1;33m\u001b[0m\u001b[1;33m\u001b[0m\u001b[0m\n\u001b[0;32m   3023\u001b[0m                 \u001b[1;32mreturn\u001b[0m \u001b[0mself\u001b[0m\u001b[1;33m.\u001b[0m\u001b[0m_getitem_multilevel\u001b[0m\u001b[1;33m(\u001b[0m\u001b[0mkey\u001b[0m\u001b[1;33m)\u001b[0m\u001b[1;33m\u001b[0m\u001b[1;33m\u001b[0m\u001b[0m\n\u001b[1;32m-> 3024\u001b[1;33m             \u001b[0mindexer\u001b[0m \u001b[1;33m=\u001b[0m \u001b[0mself\u001b[0m\u001b[1;33m.\u001b[0m\u001b[0mcolumns\u001b[0m\u001b[1;33m.\u001b[0m\u001b[0mget_loc\u001b[0m\u001b[1;33m(\u001b[0m\u001b[0mkey\u001b[0m\u001b[1;33m)\u001b[0m\u001b[1;33m\u001b[0m\u001b[1;33m\u001b[0m\u001b[0m\n\u001b[0m\u001b[0;32m   3025\u001b[0m             \u001b[1;32mif\u001b[0m \u001b[0mis_integer\u001b[0m\u001b[1;33m(\u001b[0m\u001b[0mindexer\u001b[0m\u001b[1;33m)\u001b[0m\u001b[1;33m:\u001b[0m\u001b[1;33m\u001b[0m\u001b[1;33m\u001b[0m\u001b[0m\n\u001b[0;32m   3026\u001b[0m                 \u001b[0mindexer\u001b[0m \u001b[1;33m=\u001b[0m \u001b[1;33m[\u001b[0m\u001b[0mindexer\u001b[0m\u001b[1;33m]\u001b[0m\u001b[1;33m\u001b[0m\u001b[1;33m\u001b[0m\u001b[0m\n",
      "\u001b[1;32mc:\\users\\nikit\\appdata\\local\\programs\\python\\python38-32\\lib\\site-packages\\pandas\\core\\indexes\\base.py\u001b[0m in \u001b[0;36mget_loc\u001b[1;34m(self, key, method, tolerance)\u001b[0m\n\u001b[0;32m   3080\u001b[0m                 \u001b[1;32mreturn\u001b[0m \u001b[0mself\u001b[0m\u001b[1;33m.\u001b[0m\u001b[0m_engine\u001b[0m\u001b[1;33m.\u001b[0m\u001b[0mget_loc\u001b[0m\u001b[1;33m(\u001b[0m\u001b[0mcasted_key\u001b[0m\u001b[1;33m)\u001b[0m\u001b[1;33m\u001b[0m\u001b[1;33m\u001b[0m\u001b[0m\n\u001b[0;32m   3081\u001b[0m             \u001b[1;32mexcept\u001b[0m \u001b[0mKeyError\u001b[0m \u001b[1;32mas\u001b[0m \u001b[0merr\u001b[0m\u001b[1;33m:\u001b[0m\u001b[1;33m\u001b[0m\u001b[1;33m\u001b[0m\u001b[0m\n\u001b[1;32m-> 3082\u001b[1;33m                 \u001b[1;32mraise\u001b[0m \u001b[0mKeyError\u001b[0m\u001b[1;33m(\u001b[0m\u001b[0mkey\u001b[0m\u001b[1;33m)\u001b[0m \u001b[1;32mfrom\u001b[0m \u001b[0merr\u001b[0m\u001b[1;33m\u001b[0m\u001b[1;33m\u001b[0m\u001b[0m\n\u001b[0m\u001b[0;32m   3083\u001b[0m \u001b[1;33m\u001b[0m\u001b[0m\n\u001b[0;32m   3084\u001b[0m         \u001b[1;32mif\u001b[0m \u001b[0mtolerance\u001b[0m \u001b[1;32mis\u001b[0m \u001b[1;32mnot\u001b[0m \u001b[1;32mNone\u001b[0m\u001b[1;33m:\u001b[0m\u001b[1;33m\u001b[0m\u001b[1;33m\u001b[0m\u001b[0m\n",
      "\u001b[1;31mKeyError\u001b[0m: 'Company'"
     ]
    }
   ],
   "source": [
    "print(\"Amount of unique values:\")\n",
    "print('Company ')\n",
    "print(len(df['Company'].unique()))\n",
    "print('Company Location')\n",
    "print(len(df['Company\\nLocation'].unique()))\n",
    "print('Rating')\n",
    "print(len(df['Rating'].unique()))\n",
    "print('Specific Bean Origin or Bar Name')\n",
    "print(len(df['Specific Bean Origin or Bar Name'].unique()))\n",
    "print('REF')\n",
    "print(len(df['REF'].unique()))\n",
    "print('Cocoa Percent')\n",
    "print(len(df['Cocoa\\nPercent'].unique()))\n",
    "print('Review Date')\n",
    "print(len(df['Review\\nDate'].unique()))\n",
    "print(\"Amount:\"+str(len(df)))"
   ]
  },
  {
   "cell_type": "code",
   "execution_count": null,
   "id": "unique-crystal",
   "metadata": {},
   "outputs": [],
   "source": [
    "def code_mean(data,cat_feature,real_feature):\n",
    "  return (data[cat_feature].map(data.groupby(cat_feature)[real_feature].mean()))\n",
    "df['Company\\nLocation_mean'] = code_mean(df,'Company\\nLocation','Rating')\n",
    "df = df.drop(['Company\\nLocation'],axis=1)\n",
    "df['Specific Bean Origin or Bar Name_mean'] = code_mean(df,'Specific Bean Origin or Bar Name','Rating')\n",
    "df = df.drop(['Specific Bean Origin or Bar Name'],axis=1)\n",
    "df['Company_mean'] = code_mean(df,'Company','Rating')\n",
    "df = df.drop(['Company'],axis=1)\n",
    "print(df.columns)"
   ]
  },
  {
   "cell_type": "code",
   "execution_count": null,
   "id": "patient-spray",
   "metadata": {},
   "outputs": [],
   "source": [
    "def performX(df):\n",
    "  from sklearn import preprocessing\n",
    "  columns = []\n",
    "  for column in df.columns:\n",
    "      columns.append(column)\n",
    "  x = df.values #returns a numpy array\n",
    "  min_max_scaler = preprocessing.MinMaxScaler()\n",
    "  x_scaled = min_max_scaler.fit_transform(x)\n",
    "  df = pd.DataFrame(x_scaled)\n",
    "  df.columns = columns\n",
    "  return df"
   ]
  },
  {
   "cell_type": "code",
   "execution_count": null,
   "id": "chubby-assets",
   "metadata": {},
   "outputs": [],
   "source": [
    "df['Rating'] = df['Rating'].astype(int)"
   ]
  },
  {
   "cell_type": "code",
   "execution_count": null,
   "id": "separated-shipping",
   "metadata": {},
   "outputs": [],
   "source": [
    "from sklearn.model_selection import train_test_split\n",
    "dataX = performX(df.drop(['Rating'],axis=1)) #приводит данные к шкале от 0 до 1\n",
    "dataY = df['Rating'] #отбор классифицируемого признака\n",
    "train_x, test_x, train_y, test_y = train_test_split(dataX,dataY,test_size = 0.3,random_state = 11) #разделение выборки на обучающую и тестовую\n",
    "from sklearn.neighbors import KNeighborsClassifier\n",
    "knn = KNeighborsClassifier(metric='manhattan') #создание классификатора k-ближайших соседей с использованием манхеттенской метрики\n",
    "knn.fit(train_x, train_y) #обучение классификатора\n",
    "scores = cross_val_score(knn, dataX, dataY, cv=4)\n",
    "print(\"Cross-validation result:\"+str(round(scores.mean(),3)))\n",
    "plt.figure(figsize=(10,10))\n",
    "sns.heatmap(df.corr(),annot=True,fmt='.1f')\n",
    "plt.show()"
   ]
  },
  {
   "cell_type": "code",
   "execution_count": null,
   "id": "organized-scholarship",
   "metadata": {},
   "outputs": [],
   "source": [
    "pred_y = knn.predict(test_x)\n",
    "mat = confusion_matrix(test_y[0:1000], pred_y[0:1000])\n",
    "print(mat)\n",
    "\n",
    "print(\"Accuracy:\"+str(round(accuracy_score(pred_y,test_y),3)))\n",
    "print(\"Precision:\"+str(round(precision_score(pred_y, test_y,average='micro'),3)))\n",
    "print(\"Recall:\"+str(round(recall_score(pred_y, test_y,average='micro'),3)))\n",
    "x = list(range(0, len(test_y)))\n",
    "fig, ax = plt.subplots()\n",
    "plt.plot(x[100:300],test_y[100:300],color=\"red\")\n",
    "plt.plot(x[100:300],pred_y[100:300],color=\"blue\")\n",
    "ax.legend(labels=[\"Initial\",\"Predict\"])\n",
    "plt.show()"
   ]
  },
  {
   "cell_type": "code",
   "execution_count": null,
   "id": "rational-conclusion",
   "metadata": {},
   "outputs": [],
   "source": [
    "predicts = knn.predict_proba(test_x)    \n",
    "print(log_loss(test_y,predicts))"
   ]
  },
  {
   "cell_type": "code",
   "execution_count": null,
   "id": "polar-fight",
   "metadata": {},
   "outputs": [],
   "source": [
    "from sklearn.linear_model import RidgeClassifier\n",
    "from sklearn.model_selection import train_test_split\n",
    "from sklearn.preprocessing import OrdinalEncoder, LabelEncoder\n",
    "from yellowbrick.classifier import ROCAUC\n",
    "from yellowbrick.datasets import load_game\n",
    "\n",
    "visualizer = ROCAUC(knn, classes=list(set(test_y)))\n",
    "\n",
    "visualizer.fit(train_x, train_y)        # Fit the training data to the visualizer\n",
    "visualizer.score(test_x, test_y)        # Evaluate the model on the test data        "
   ]
  },
  {
   "cell_type": "code",
   "execution_count": null,
   "id": "activated-connection",
   "metadata": {},
   "outputs": [],
   "source": [
    "knn = KNeighborsClassifier(metric='manhattan',n_neighbors=1,algorithm='ball_tree') #создание классификатора k-ближайших соседей с использованием манхеттенской метрики\n",
    "knn.fit(train_x, train_y) #обучение классификатора\n",
    "#print(knn.score(test_x,test_y)) \n",
    "scores = cross_val_score(knn, dataX, dataY, cv=4)\n",
    "print(\"Cross-validation result:\"+str(round(scores.mean(),3)))\n",
    "visualizer = ROCAUC(knn, classes=list(set(test_y)))\n",
    "\n",
    "visualizer.fit(train_x, train_y)        # Fit the training data to the visualizer\n",
    "visualizer.score(test_x, test_y)\n",
    "x = list(range(0, len(test_y)))\n",
    "fig, ax = plt.subplots()\n",
    "plt.plot(x[100:300],test_y[100:300],color=\"red\")\n",
    "plt.plot(x[100:300],pred_y[100:300],color=\"blue\")\n",
    "ax.legend(labels=[\"Initial\",\"Predict\"])\n",
    "plt.show()  "
   ]
  },
  {
   "cell_type": "code",
   "execution_count": null,
   "id": "australian-motorcycle",
   "metadata": {},
   "outputs": [],
   "source": []
  },
  {
   "cell_type": "code",
   "execution_count": null,
   "id": "minute-harvard",
   "metadata": {},
   "outputs": [],
   "source": []
  }
 ],
 "metadata": {
  "kernelspec": {
   "display_name": "Python 3",
   "language": "python",
   "name": "python3"
  },
  "language_info": {
   "codemirror_mode": {
    "name": "ipython",
    "version": 3
   },
   "file_extension": ".py",
   "mimetype": "text/x-python",
   "name": "python",
   "nbconvert_exporter": "python",
   "pygments_lexer": "ipython3",
   "version": "3.8.5"
  }
 },
 "nbformat": 4,
 "nbformat_minor": 5
}
